{
 "cells": [
  {
   "cell_type": "code",
   "execution_count": 1,
   "id": "9a67589c-0ac4-4358-a7eb-c19feebe5a5b",
   "metadata": {},
   "outputs": [],
   "source": [
    "# In this notebook, we evaluate the quality of the Hbmass synthetic data generated with 'synthpop' in R using the SyntheticDataEvaluator class."
   ]
  },
  {
   "cell_type": "code",
   "execution_count": 2,
   "id": "affcfe48-2b83-47d2-b82a-9ae8d04ab18e",
   "metadata": {},
   "outputs": [],
   "source": [
    "import pandas as pd\n",
    "import pprint\n",
    "\n",
    "from sdv.datasets.local import load_csvs\n",
    "from sdv.metadata import SingleTableMetadata\n",
    "\n",
    "import plotly.graph_objects as go\n",
    "\n",
    "from synthetic_data_evaluator import SyntheticDataEvaluator"
   ]
  },
  {
   "cell_type": "code",
   "execution_count": 3,
   "id": "a9160ed3-9bee-4f14-bd24-ebbbdd83669b",
   "metadata": {},
   "outputs": [],
   "source": [
    "# Set option to display all rows\n",
    "pd.set_option('display.max_rows', None)"
   ]
  },
  {
   "cell_type": "markdown",
   "id": "ed801649-8dd9-4584-8539-dca5f8d58ed2",
   "metadata": {},
   "source": [
    "# Load data"
   ]
  },
  {
   "cell_type": "code",
   "execution_count": 4,
   "id": "a51ceada-43f0-45fc-b6c2-e6f5d35019bc",
   "metadata": {},
   "outputs": [
    {
     "data": {
      "text/plain": [
       "dict_keys(['Parvo_raw', 'Hbmass_raw', 'Hbmass_raw_mice_R_imputed', 'Hbmass_synthetic_synthpop'])"
      ]
     },
     "execution_count": 4,
     "metadata": {},
     "output_type": "execute_result"
    }
   ],
   "source": [
    "data = load_csvs(folder_name='Hbmass_csvs')\n",
    "data.keys()"
   ]
  },
  {
   "cell_type": "markdown",
   "id": "b31f2890-ca71-408b-996d-035c8152a0b7",
   "metadata": {},
   "source": [
    "### Original data"
   ]
  },
  {
   "cell_type": "code",
   "execution_count": 5,
   "id": "920847ba-a438-4944-bf64-a85a363fdb94",
   "metadata": {},
   "outputs": [
    {
     "data": {
      "text/html": [
       "<div>\n",
       "<style scoped>\n",
       "    .dataframe tbody tr th:only-of-type {\n",
       "        vertical-align: middle;\n",
       "    }\n",
       "\n",
       "    .dataframe tbody tr th {\n",
       "        vertical-align: top;\n",
       "    }\n",
       "\n",
       "    .dataframe thead th {\n",
       "        text-align: right;\n",
       "    }\n",
       "</style>\n",
       "<table border=\"1\" class=\"dataframe\">\n",
       "  <thead>\n",
       "    <tr style=\"text-align: right;\">\n",
       "      <th></th>\n",
       "      <th>ID</th>\n",
       "      <th>TIME</th>\n",
       "      <th>SEX</th>\n",
       "      <th>SUP_DOSE</th>\n",
       "      <th>BM</th>\n",
       "      <th>FER</th>\n",
       "      <th>FE</th>\n",
       "      <th>TSAT</th>\n",
       "      <th>TRANS</th>\n",
       "      <th>AHBM</th>\n",
       "      <th>RHBM</th>\n",
       "    </tr>\n",
       "  </thead>\n",
       "  <tbody>\n",
       "    <tr>\n",
       "      <th>0</th>\n",
       "      <td>1</td>\n",
       "      <td>0</td>\n",
       "      <td>1</td>\n",
       "      <td>0</td>\n",
       "      <td>77.1</td>\n",
       "      <td>160.9</td>\n",
       "      <td>22.1</td>\n",
       "      <td>36.0</td>\n",
       "      <td>2.7</td>\n",
       "      <td>1005</td>\n",
       "      <td>13.0</td>\n",
       "    </tr>\n",
       "    <tr>\n",
       "      <th>1</th>\n",
       "      <td>2</td>\n",
       "      <td>0</td>\n",
       "      <td>1</td>\n",
       "      <td>0</td>\n",
       "      <td>65.4</td>\n",
       "      <td>168.7</td>\n",
       "      <td>15.3</td>\n",
       "      <td>25.0</td>\n",
       "      <td>2.7</td>\n",
       "      <td>876</td>\n",
       "      <td>13.4</td>\n",
       "    </tr>\n",
       "    <tr>\n",
       "      <th>2</th>\n",
       "      <td>3</td>\n",
       "      <td>0</td>\n",
       "      <td>0</td>\n",
       "      <td>0</td>\n",
       "      <td>53.0</td>\n",
       "      <td>227.8</td>\n",
       "      <td>17.5</td>\n",
       "      <td>31.0</td>\n",
       "      <td>2.5</td>\n",
       "      <td>782</td>\n",
       "      <td>14.8</td>\n",
       "    </tr>\n",
       "    <tr>\n",
       "      <th>3</th>\n",
       "      <td>4</td>\n",
       "      <td>0</td>\n",
       "      <td>1</td>\n",
       "      <td>0</td>\n",
       "      <td>63.5</td>\n",
       "      <td>202.0</td>\n",
       "      <td>14.4</td>\n",
       "      <td>22.0</td>\n",
       "      <td>2.9</td>\n",
       "      <td>909</td>\n",
       "      <td>14.3</td>\n",
       "    </tr>\n",
       "    <tr>\n",
       "      <th>4</th>\n",
       "      <td>5</td>\n",
       "      <td>0</td>\n",
       "      <td>1</td>\n",
       "      <td>0</td>\n",
       "      <td>60.2</td>\n",
       "      <td>175.8</td>\n",
       "      <td>25.3</td>\n",
       "      <td>36.0</td>\n",
       "      <td>2.6</td>\n",
       "      <td>744</td>\n",
       "      <td>12.4</td>\n",
       "    </tr>\n",
       "  </tbody>\n",
       "</table>\n",
       "</div>"
      ],
      "text/plain": [
       "   ID  TIME  SEX  SUP_DOSE    BM    FER    FE  TSAT  TRANS  AHBM  RHBM\n",
       "0   1     0    1         0  77.1  160.9  22.1  36.0    2.7  1005  13.0\n",
       "1   2     0    1         0  65.4  168.7  15.3  25.0    2.7   876  13.4\n",
       "2   3     0    0         0  53.0  227.8  17.5  31.0    2.5   782  14.8\n",
       "3   4     0    1         0  63.5  202.0  14.4  22.0    2.9   909  14.3\n",
       "4   5     0    1         0  60.2  175.8  25.3  36.0    2.6   744  12.4"
      ]
     },
     "execution_count": 5,
     "metadata": {},
     "output_type": "execute_result"
    }
   ],
   "source": [
    "Hbmass = data['Hbmass_raw_mice_R_imputed']\n",
    "Hbmass.head(5)"
   ]
  },
  {
   "cell_type": "code",
   "execution_count": 6,
   "id": "af86347b-5b34-41be-8548-a12aa86abeaf",
   "metadata": {},
   "outputs": [],
   "source": [
    "# Create a new ID column running from 1 to 356 - this is needed for the correct metadata autodetection - the ID column has to be continuous\n",
    "Hbmass['ID'] = range(1, len(Hbmass) + 1)"
   ]
  },
  {
   "cell_type": "markdown",
   "id": "0295e37b-5cd3-46ae-bc6c-0f6a64e2f080",
   "metadata": {},
   "source": [
    "### Hbmass 'synthpop' synthetic data"
   ]
  },
  {
   "cell_type": "code",
   "execution_count": 7,
   "id": "f2939f8f-0530-4a28-b809-c40dca59a1de",
   "metadata": {},
   "outputs": [
    {
     "data": {
      "text/html": [
       "<div>\n",
       "<style scoped>\n",
       "    .dataframe tbody tr th:only-of-type {\n",
       "        vertical-align: middle;\n",
       "    }\n",
       "\n",
       "    .dataframe tbody tr th {\n",
       "        vertical-align: top;\n",
       "    }\n",
       "\n",
       "    .dataframe thead th {\n",
       "        text-align: right;\n",
       "    }\n",
       "</style>\n",
       "<table border=\"1\" class=\"dataframe\">\n",
       "  <thead>\n",
       "    <tr style=\"text-align: right;\">\n",
       "      <th></th>\n",
       "      <th>ID</th>\n",
       "      <th>TIME</th>\n",
       "      <th>SEX</th>\n",
       "      <th>SUP_DOSE</th>\n",
       "      <th>BM</th>\n",
       "      <th>FER</th>\n",
       "      <th>FE</th>\n",
       "      <th>TSAT</th>\n",
       "      <th>TRANS</th>\n",
       "      <th>AHBM</th>\n",
       "      <th>RHBM</th>\n",
       "    </tr>\n",
       "  </thead>\n",
       "  <tbody>\n",
       "    <tr>\n",
       "      <th>0</th>\n",
       "      <td>1</td>\n",
       "      <td>0</td>\n",
       "      <td>1</td>\n",
       "      <td>0</td>\n",
       "      <td>77.1</td>\n",
       "      <td>160.9</td>\n",
       "      <td>22.1</td>\n",
       "      <td>36.0</td>\n",
       "      <td>2.7</td>\n",
       "      <td>1005</td>\n",
       "      <td>13.0</td>\n",
       "    </tr>\n",
       "    <tr>\n",
       "      <th>1</th>\n",
       "      <td>2</td>\n",
       "      <td>0</td>\n",
       "      <td>1</td>\n",
       "      <td>0</td>\n",
       "      <td>65.4</td>\n",
       "      <td>168.7</td>\n",
       "      <td>15.3</td>\n",
       "      <td>25.0</td>\n",
       "      <td>2.7</td>\n",
       "      <td>876</td>\n",
       "      <td>13.4</td>\n",
       "    </tr>\n",
       "    <tr>\n",
       "      <th>2</th>\n",
       "      <td>3</td>\n",
       "      <td>0</td>\n",
       "      <td>0</td>\n",
       "      <td>0</td>\n",
       "      <td>53.0</td>\n",
       "      <td>227.8</td>\n",
       "      <td>17.5</td>\n",
       "      <td>31.0</td>\n",
       "      <td>2.5</td>\n",
       "      <td>782</td>\n",
       "      <td>14.8</td>\n",
       "    </tr>\n",
       "    <tr>\n",
       "      <th>3</th>\n",
       "      <td>4</td>\n",
       "      <td>0</td>\n",
       "      <td>1</td>\n",
       "      <td>0</td>\n",
       "      <td>63.5</td>\n",
       "      <td>202.0</td>\n",
       "      <td>14.4</td>\n",
       "      <td>22.0</td>\n",
       "      <td>2.9</td>\n",
       "      <td>909</td>\n",
       "      <td>14.3</td>\n",
       "    </tr>\n",
       "    <tr>\n",
       "      <th>4</th>\n",
       "      <td>5</td>\n",
       "      <td>0</td>\n",
       "      <td>1</td>\n",
       "      <td>0</td>\n",
       "      <td>60.2</td>\n",
       "      <td>175.8</td>\n",
       "      <td>25.3</td>\n",
       "      <td>36.0</td>\n",
       "      <td>2.6</td>\n",
       "      <td>744</td>\n",
       "      <td>12.4</td>\n",
       "    </tr>\n",
       "  </tbody>\n",
       "</table>\n",
       "</div>"
      ],
      "text/plain": [
       "   ID  TIME  SEX  SUP_DOSE    BM    FER    FE  TSAT  TRANS  AHBM  RHBM\n",
       "0   1     0    1         0  77.1  160.9  22.1  36.0    2.7  1005  13.0\n",
       "1   2     0    1         0  65.4  168.7  15.3  25.0    2.7   876  13.4\n",
       "2   3     0    0         0  53.0  227.8  17.5  31.0    2.5   782  14.8\n",
       "3   4     0    1         0  63.5  202.0  14.4  22.0    2.9   909  14.3\n",
       "4   5     0    1         0  60.2  175.8  25.3  36.0    2.6   744  12.4"
      ]
     },
     "execution_count": 7,
     "metadata": {},
     "output_type": "execute_result"
    }
   ],
   "source": [
    "Hbmass_synthetic = data['Hbmass_synthetic_synthpop']\n",
    "Hbmass.head(5)"
   ]
  },
  {
   "cell_type": "code",
   "execution_count": 8,
   "id": "e9ffe6df-045c-4d96-94a4-9ca1919f9847",
   "metadata": {},
   "outputs": [],
   "source": [
    "# Drop the last row since it contains just NaN values\n",
    "Hbmass_synthetic = Hbmass_synthetic[:-1]\n",
    "\n",
    "# Create a new ID column running from 1 to 356\n",
    "Hbmass_synthetic['ID'] = range(1, len(Hbmass_synthetic) + 1)"
   ]
  },
  {
   "cell_type": "markdown",
   "id": "ef846fc3-1ce9-4af4-8850-8d675c19a676",
   "metadata": {},
   "source": [
    "# Generate metadata"
   ]
  },
  {
   "cell_type": "code",
   "execution_count": 9,
   "id": "17aab75f-2452-4a67-bf07-4499ba814be3",
   "metadata": {},
   "outputs": [],
   "source": [
    "def generate_and_validate_metadata(df):\n",
    "    \"\"\"\n",
    "    Generate and validate metadata for a given dataframe.\n",
    "\n",
    "    Returns: A metadata object.\n",
    "    \"\"\"\n",
    "    \n",
    "    # Initialize and detect metadata from the dataframe\n",
    "    metadata = SingleTableMetadata()\n",
    "    metadata.detect_from_dataframe(df)\n",
    "\n",
    "    # Validate the metadata\n",
    "    metadata.validate()\n",
    "    metadata.validate_data(data=df)\n",
    "\n",
    "    # Print the metadata\n",
    "    pprint.pprint(metadata)\n",
    "\n",
    "    return metadata"
   ]
  },
  {
   "cell_type": "code",
   "execution_count": 10,
   "id": "06afffa7-aad8-4477-8a34-29191655d29f",
   "metadata": {},
   "outputs": [
    {
     "name": "stdout",
     "output_type": "stream",
     "text": [
      "{\n",
      "    \"primary_key\": \"ID\",\n",
      "    \"METADATA_SPEC_VERSION\": \"SINGLE_TABLE_V1\",\n",
      "    \"columns\": {\n",
      "        \"ID\": {\n",
      "            \"sdtype\": \"id\"\n",
      "        },\n",
      "        \"TIME\": {\n",
      "            \"sdtype\": \"categorical\"\n",
      "        },\n",
      "        \"SEX\": {\n",
      "            \"sdtype\": \"categorical\"\n",
      "        },\n",
      "        \"SUP_DOSE\": {\n",
      "            \"sdtype\": \"categorical\"\n",
      "        },\n",
      "        \"BM\": {\n",
      "            \"sdtype\": \"numerical\"\n",
      "        },\n",
      "        \"FER\": {\n",
      "            \"sdtype\": \"numerical\"\n",
      "        },\n",
      "        \"FE\": {\n",
      "            \"sdtype\": \"numerical\"\n",
      "        },\n",
      "        \"TSAT\": {\n",
      "            \"sdtype\": \"numerical\"\n",
      "        },\n",
      "        \"TRANS\": {\n",
      "            \"sdtype\": \"numerical\"\n",
      "        },\n",
      "        \"AHBM\": {\n",
      "            \"sdtype\": \"numerical\"\n",
      "        },\n",
      "        \"RHBM\": {\n",
      "            \"sdtype\": \"numerical\"\n",
      "        }\n",
      "    }\n",
      "}\n",
      "Validated metadata:\n"
     ]
    },
    {
     "data": {
      "image/svg+xml": [
       "<?xml version=\"1.0\" encoding=\"UTF-8\" standalone=\"no\"?>\n",
       "<!DOCTYPE svg PUBLIC \"-//W3C//DTD SVG 1.1//EN\"\n",
       " \"http://www.w3.org/Graphics/SVG/1.1/DTD/svg11.dtd\">\n",
       "<!-- Generated by graphviz version 2.50.0 (0)\n",
       " -->\n",
       "<!-- Title: Metadata Pages: 1 -->\n",
       "<svg width=\"162pt\" height=\"205pt\"\n",
       " viewBox=\"0.00 0.00 162.00 205.00\" xmlns=\"http://www.w3.org/2000/svg\" xmlns:xlink=\"http://www.w3.org/1999/xlink\">\n",
       "<g id=\"graph0\" class=\"graph\" transform=\"scale(1 1) rotate(0) translate(4 201)\">\n",
       "<title>Metadata</title>\n",
       "<polygon fill=\"white\" stroke=\"transparent\" points=\"-4,4 -4,-201 158,-201 158,4 -4,4\"/>\n",
       "<g id=\"node1\" class=\"node\">\n",
       "<title></title>\n",
       "<path fill=\"#ffec8b\" stroke=\"black\" d=\"M12,-0.5C12,-0.5 142,-0.5 142,-0.5 148,-0.5 154,-6.5 154,-12.5 154,-12.5 154,-184.5 154,-184.5 154,-190.5 148,-196.5 142,-196.5 142,-196.5 12,-196.5 12,-196.5 6,-196.5 0,-190.5 0,-184.5 0,-184.5 0,-12.5 0,-12.5 0,-6.5 6,-0.5 12,-0.5\"/>\n",
       "<text text-anchor=\"start\" x=\"8\" y=\"-181.3\" font-family=\"Times,serif\" font-size=\"14.00\">ID : id</text>\n",
       "<text text-anchor=\"start\" x=\"8\" y=\"-166.3\" font-family=\"Times,serif\" font-size=\"14.00\">TIME : categorical</text>\n",
       "<text text-anchor=\"start\" x=\"8\" y=\"-151.3\" font-family=\"Times,serif\" font-size=\"14.00\">SEX : categorical</text>\n",
       "<text text-anchor=\"start\" x=\"8\" y=\"-136.3\" font-family=\"Times,serif\" font-size=\"14.00\">SUP_DOSE : categorical</text>\n",
       "<text text-anchor=\"start\" x=\"8\" y=\"-121.3\" font-family=\"Times,serif\" font-size=\"14.00\">BM : numerical</text>\n",
       "<text text-anchor=\"start\" x=\"8\" y=\"-106.3\" font-family=\"Times,serif\" font-size=\"14.00\">FER : numerical</text>\n",
       "<text text-anchor=\"start\" x=\"8\" y=\"-91.3\" font-family=\"Times,serif\" font-size=\"14.00\">FE : numerical</text>\n",
       "<text text-anchor=\"start\" x=\"8\" y=\"-76.3\" font-family=\"Times,serif\" font-size=\"14.00\">TSAT : numerical</text>\n",
       "<text text-anchor=\"start\" x=\"8\" y=\"-61.3\" font-family=\"Times,serif\" font-size=\"14.00\">TRANS : numerical</text>\n",
       "<text text-anchor=\"start\" x=\"8\" y=\"-46.3\" font-family=\"Times,serif\" font-size=\"14.00\">AHBM : numerical</text>\n",
       "<text text-anchor=\"start\" x=\"8\" y=\"-31.3\" font-family=\"Times,serif\" font-size=\"14.00\">RHBM : numerical</text>\n",
       "<polyline fill=\"none\" stroke=\"black\" points=\"0,-23.5 154,-23.5 \"/>\n",
       "<text text-anchor=\"start\" x=\"8\" y=\"-8.3\" font-family=\"Times,serif\" font-size=\"14.00\">Primary key: ID</text>\n",
       "</g>\n",
       "</g>\n",
       "</svg>\n"
      ],
      "text/plain": [
       "<graphviz.graphs.Digraph at 0x7fb3354ef070>"
      ]
     },
     "execution_count": 10,
     "metadata": {},
     "output_type": "execute_result"
    }
   ],
   "source": [
    "# Generate metadata for the Hbmass dataset\n",
    "\n",
    "metadata_Hbmass = generate_and_validate_metadata(Hbmass)\n",
    "\n",
    "# Visualize the metadata\n",
    "print('Validated metadata:')\n",
    "metadata_Hbmass.visualize()"
   ]
  },
  {
   "cell_type": "markdown",
   "id": "b4c1737c-2f47-40c7-8e3e-d6c2c55ebcdd",
   "metadata": {},
   "source": [
    "# Evaluate synthetic data with the SyntheticDataEvaluator class"
   ]
  },
  {
   "cell_type": "code",
   "execution_count": 11,
   "id": "b73ceee7-dab3-4736-b56a-490e60d16624",
   "metadata": {},
   "outputs": [
    {
     "name": "stdout",
     "output_type": "stream",
     "text": [
      "Available methods for synthetic data evaluation:\n",
      "- ks_complement_eval\n",
      "- tv_complement_eval\n",
      "- descr_stat_similarity_eval\n",
      "- corr_similarity_eval\n",
      "- range_coverage_eval\n",
      "- cat_coverage_eval\n",
      "- miss_val_similarity_eval\n",
      "- new_row_synthesis_eval\n",
      "- generate_diagnostic_report\n",
      "- generate_quality_report\n",
      "- plot_columns\n",
      "- plot_column_pairs\n"
     ]
    }
   ],
   "source": [
    "# Instantiate an object of the SyntheticDataEvaluator class\n",
    "evaluator = SyntheticDataEvaluator(Hbmass, Hbmass_synthetic, metadata_Hbmass)\n",
    "print(evaluator)"
   ]
  },
  {
   "cell_type": "markdown",
   "id": "4cad8040-5038-4e7d-b321-02b4c6d9b4ef",
   "metadata": {},
   "source": [
    "### KSComplement"
   ]
  },
  {
   "cell_type": "code",
   "execution_count": 12,
   "id": "1733b423-55ca-4fea-90f7-ca0fcd7edce3",
   "metadata": {},
   "outputs": [
    {
     "data": {
      "text/html": [
       "<div>\n",
       "<style scoped>\n",
       "    .dataframe tbody tr th:only-of-type {\n",
       "        vertical-align: middle;\n",
       "    }\n",
       "\n",
       "    .dataframe tbody tr th {\n",
       "        vertical-align: top;\n",
       "    }\n",
       "\n",
       "    .dataframe thead th {\n",
       "        text-align: right;\n",
       "    }\n",
       "</style>\n",
       "<table border=\"1\" class=\"dataframe\">\n",
       "  <thead>\n",
       "    <tr style=\"text-align: right;\">\n",
       "      <th></th>\n",
       "      <th>Variable</th>\n",
       "      <th>KSComplement Score</th>\n",
       "    </tr>\n",
       "  </thead>\n",
       "  <tbody>\n",
       "    <tr>\n",
       "      <th>0</th>\n",
       "      <td>AHBM</td>\n",
       "      <td>0.966292</td>\n",
       "    </tr>\n",
       "    <tr>\n",
       "      <th>1</th>\n",
       "      <td>BM</td>\n",
       "      <td>0.960674</td>\n",
       "    </tr>\n",
       "    <tr>\n",
       "      <th>2</th>\n",
       "      <td>RHBM</td>\n",
       "      <td>0.957865</td>\n",
       "    </tr>\n",
       "    <tr>\n",
       "      <th>3</th>\n",
       "      <td>TSAT</td>\n",
       "      <td>0.946629</td>\n",
       "    </tr>\n",
       "    <tr>\n",
       "      <th>4</th>\n",
       "      <td>FER</td>\n",
       "      <td>0.941011</td>\n",
       "    </tr>\n",
       "    <tr>\n",
       "      <th>5</th>\n",
       "      <td>FE</td>\n",
       "      <td>0.929775</td>\n",
       "    </tr>\n",
       "    <tr>\n",
       "      <th>6</th>\n",
       "      <td>TRANS</td>\n",
       "      <td>0.924157</td>\n",
       "    </tr>\n",
       "    <tr>\n",
       "      <th>7</th>\n",
       "      <td>mean_ks_score</td>\n",
       "      <td>0.946629</td>\n",
       "    </tr>\n",
       "  </tbody>\n",
       "</table>\n",
       "</div>"
      ],
      "text/plain": [
       "        Variable  KSComplement Score\n",
       "0           AHBM            0.966292\n",
       "1             BM            0.960674\n",
       "2           RHBM            0.957865\n",
       "3           TSAT            0.946629\n",
       "4            FER            0.941011\n",
       "5             FE            0.929775\n",
       "6          TRANS            0.924157\n",
       "7  mean_ks_score            0.946629"
      ]
     },
     "execution_count": 12,
     "metadata": {},
     "output_type": "execute_result"
    }
   ],
   "source": [
    "evaluator.ks_complement_eval()"
   ]
  },
  {
   "cell_type": "markdown",
   "id": "c09590fc-b299-4a82-a02d-cf3868b2f696",
   "metadata": {},
   "source": [
    "### Descriptive statistics similarity"
   ]
  },
  {
   "cell_type": "code",
   "execution_count": 13,
   "id": "50a12e39-b706-409b-b131-d469717f3407",
   "metadata": {},
   "outputs": [
    {
     "data": {
      "text/html": [
       "<div>\n",
       "<style scoped>\n",
       "    .dataframe tbody tr th:only-of-type {\n",
       "        vertical-align: middle;\n",
       "    }\n",
       "\n",
       "    .dataframe tbody tr th {\n",
       "        vertical-align: top;\n",
       "    }\n",
       "\n",
       "    .dataframe thead th {\n",
       "        text-align: right;\n",
       "    }\n",
       "</style>\n",
       "<table border=\"1\" class=\"dataframe\">\n",
       "  <thead>\n",
       "    <tr style=\"text-align: right;\">\n",
       "      <th></th>\n",
       "      <th>Variable</th>\n",
       "      <th>mean</th>\n",
       "      <th>median</th>\n",
       "      <th>std</th>\n",
       "    </tr>\n",
       "  </thead>\n",
       "  <tbody>\n",
       "    <tr>\n",
       "      <th>0</th>\n",
       "      <td>BM</td>\n",
       "      <td>0.990026</td>\n",
       "      <td>0.986111</td>\n",
       "      <td>0.998054</td>\n",
       "    </tr>\n",
       "    <tr>\n",
       "      <th>1</th>\n",
       "      <td>FER</td>\n",
       "      <td>0.977592</td>\n",
       "      <td>0.980093</td>\n",
       "      <td>0.985306</td>\n",
       "    </tr>\n",
       "    <tr>\n",
       "      <th>2</th>\n",
       "      <td>FE</td>\n",
       "      <td>0.998725</td>\n",
       "      <td>0.990345</td>\n",
       "      <td>0.997480</td>\n",
       "    </tr>\n",
       "    <tr>\n",
       "      <th>3</th>\n",
       "      <td>TSAT</td>\n",
       "      <td>0.994815</td>\n",
       "      <td>1.000000</td>\n",
       "      <td>0.989884</td>\n",
       "    </tr>\n",
       "    <tr>\n",
       "      <th>4</th>\n",
       "      <td>TRANS</td>\n",
       "      <td>0.978615</td>\n",
       "      <td>0.967742</td>\n",
       "      <td>0.994833</td>\n",
       "    </tr>\n",
       "    <tr>\n",
       "      <th>5</th>\n",
       "      <td>AHBM</td>\n",
       "      <td>0.992606</td>\n",
       "      <td>0.974101</td>\n",
       "      <td>0.999987</td>\n",
       "    </tr>\n",
       "    <tr>\n",
       "      <th>6</th>\n",
       "      <td>RHBM</td>\n",
       "      <td>0.999395</td>\n",
       "      <td>0.998601</td>\n",
       "      <td>0.999051</td>\n",
       "    </tr>\n",
       "  </tbody>\n",
       "</table>\n",
       "</div>"
      ],
      "text/plain": [
       "  Variable      mean    median       std\n",
       "0       BM  0.990026  0.986111  0.998054\n",
       "1      FER  0.977592  0.980093  0.985306\n",
       "2       FE  0.998725  0.990345  0.997480\n",
       "3     TSAT  0.994815  1.000000  0.989884\n",
       "4    TRANS  0.978615  0.967742  0.994833\n",
       "5     AHBM  0.992606  0.974101  0.999987\n",
       "6     RHBM  0.999395  0.998601  0.999051"
      ]
     },
     "execution_count": 13,
     "metadata": {},
     "output_type": "execute_result"
    }
   ],
   "source": [
    "evaluator.descr_stat_similarity_eval()"
   ]
  },
  {
   "cell_type": "markdown",
   "id": "42b4165b-c440-4761-be50-ebf83fdc98f8",
   "metadata": {},
   "source": [
    "### Correlation similarity"
   ]
  },
  {
   "cell_type": "code",
   "execution_count": 16,
   "id": "1eece953-cb47-400e-b960-f046b8f23934",
   "metadata": {},
   "outputs": [
    {
     "name": "stdout",
     "output_type": "stream",
     "text": [
      "Choose correlation coefficient:\n",
      "1. Pearson\n",
      "2. Spearman\n"
     ]
    },
    {
     "name": "stdin",
     "output_type": "stream",
     "text": [
      "Enter choice (1 or 2):  1\n"
     ]
    },
    {
     "data": {
      "text/html": [
       "<div>\n",
       "<style scoped>\n",
       "    .dataframe tbody tr th:only-of-type {\n",
       "        vertical-align: middle;\n",
       "    }\n",
       "\n",
       "    .dataframe tbody tr th {\n",
       "        vertical-align: top;\n",
       "    }\n",
       "\n",
       "    .dataframe thead th {\n",
       "        text-align: right;\n",
       "    }\n",
       "</style>\n",
       "<table border=\"1\" class=\"dataframe\">\n",
       "  <thead>\n",
       "    <tr style=\"text-align: right;\">\n",
       "      <th></th>\n",
       "      <th>Column Pair</th>\n",
       "      <th>Correlation Similarity</th>\n",
       "    </tr>\n",
       "  </thead>\n",
       "  <tbody>\n",
       "    <tr>\n",
       "      <th>0</th>\n",
       "      <td>(AHBM, RHBM)</td>\n",
       "      <td>0.999156</td>\n",
       "    </tr>\n",
       "    <tr>\n",
       "      <th>1</th>\n",
       "      <td>(BM, AHBM)</td>\n",
       "      <td>0.996647</td>\n",
       "    </tr>\n",
       "    <tr>\n",
       "      <th>2</th>\n",
       "      <td>(BM, RHBM)</td>\n",
       "      <td>0.996579</td>\n",
       "    </tr>\n",
       "    <tr>\n",
       "      <th>3</th>\n",
       "      <td>(FER, AHBM)</td>\n",
       "      <td>0.996133</td>\n",
       "    </tr>\n",
       "    <tr>\n",
       "      <th>4</th>\n",
       "      <td>(FER, TRANS)</td>\n",
       "      <td>0.995495</td>\n",
       "    </tr>\n",
       "    <tr>\n",
       "      <th>5</th>\n",
       "      <td>(BM, FER)</td>\n",
       "      <td>0.994128</td>\n",
       "    </tr>\n",
       "    <tr>\n",
       "      <th>6</th>\n",
       "      <td>(FER, FE)</td>\n",
       "      <td>0.992904</td>\n",
       "    </tr>\n",
       "    <tr>\n",
       "      <th>7</th>\n",
       "      <td>(FER, RHBM)</td>\n",
       "      <td>0.992489</td>\n",
       "    </tr>\n",
       "    <tr>\n",
       "      <th>8</th>\n",
       "      <td>(FE, TSAT)</td>\n",
       "      <td>0.980574</td>\n",
       "    </tr>\n",
       "    <tr>\n",
       "      <th>9</th>\n",
       "      <td>(TRANS, AHBM)</td>\n",
       "      <td>0.976768</td>\n",
       "    </tr>\n",
       "    <tr>\n",
       "      <th>10</th>\n",
       "      <td>(TSAT, TRANS)</td>\n",
       "      <td>0.970996</td>\n",
       "    </tr>\n",
       "    <tr>\n",
       "      <th>11</th>\n",
       "      <td>(TRANS, RHBM)</td>\n",
       "      <td>0.970602</td>\n",
       "    </tr>\n",
       "    <tr>\n",
       "      <th>12</th>\n",
       "      <td>(FER, TSAT)</td>\n",
       "      <td>0.968949</td>\n",
       "    </tr>\n",
       "    <tr>\n",
       "      <th>13</th>\n",
       "      <td>(FE, TRANS)</td>\n",
       "      <td>0.964505</td>\n",
       "    </tr>\n",
       "    <tr>\n",
       "      <th>14</th>\n",
       "      <td>(BM, FE)</td>\n",
       "      <td>0.963499</td>\n",
       "    </tr>\n",
       "    <tr>\n",
       "      <th>15</th>\n",
       "      <td>(FE, RHBM)</td>\n",
       "      <td>0.960954</td>\n",
       "    </tr>\n",
       "    <tr>\n",
       "      <th>16</th>\n",
       "      <td>(BM, TSAT)</td>\n",
       "      <td>0.958021</td>\n",
       "    </tr>\n",
       "    <tr>\n",
       "      <th>17</th>\n",
       "      <td>(FE, AHBM)</td>\n",
       "      <td>0.954000</td>\n",
       "    </tr>\n",
       "    <tr>\n",
       "      <th>18</th>\n",
       "      <td>(TSAT, RHBM)</td>\n",
       "      <td>0.942077</td>\n",
       "    </tr>\n",
       "    <tr>\n",
       "      <th>19</th>\n",
       "      <td>(TSAT, AHBM)</td>\n",
       "      <td>0.935585</td>\n",
       "    </tr>\n",
       "    <tr>\n",
       "      <th>20</th>\n",
       "      <td>(BM, TRANS)</td>\n",
       "      <td>0.930970</td>\n",
       "    </tr>\n",
       "    <tr>\n",
       "      <th>21</th>\n",
       "      <td>mean_correlation_score</td>\n",
       "      <td>0.973383</td>\n",
       "    </tr>\n",
       "  </tbody>\n",
       "</table>\n",
       "</div>"
      ],
      "text/plain": [
       "               Column Pair  Correlation Similarity\n",
       "0             (AHBM, RHBM)                0.999156\n",
       "1               (BM, AHBM)                0.996647\n",
       "2               (BM, RHBM)                0.996579\n",
       "3              (FER, AHBM)                0.996133\n",
       "4             (FER, TRANS)                0.995495\n",
       "5                (BM, FER)                0.994128\n",
       "6                (FER, FE)                0.992904\n",
       "7              (FER, RHBM)                0.992489\n",
       "8               (FE, TSAT)                0.980574\n",
       "9            (TRANS, AHBM)                0.976768\n",
       "10           (TSAT, TRANS)                0.970996\n",
       "11           (TRANS, RHBM)                0.970602\n",
       "12             (FER, TSAT)                0.968949\n",
       "13             (FE, TRANS)                0.964505\n",
       "14                (BM, FE)                0.963499\n",
       "15              (FE, RHBM)                0.960954\n",
       "16              (BM, TSAT)                0.958021\n",
       "17              (FE, AHBM)                0.954000\n",
       "18            (TSAT, RHBM)                0.942077\n",
       "19            (TSAT, AHBM)                0.935585\n",
       "20             (BM, TRANS)                0.930970\n",
       "21  mean_correlation_score                0.973383"
      ]
     },
     "execution_count": 16,
     "metadata": {},
     "output_type": "execute_result"
    }
   ],
   "source": [
    "evaluator.corr_similarity_eval()"
   ]
  },
  {
   "cell_type": "markdown",
   "id": "c77ab2a2-0045-4383-9918-7dc0ed249110",
   "metadata": {},
   "source": [
    "### Range coverage similarity"
   ]
  },
  {
   "cell_type": "code",
   "execution_count": 17,
   "id": "75f70f52-3b0e-4685-9e8c-d68014d8169c",
   "metadata": {},
   "outputs": [
    {
     "data": {
      "text/html": [
       "<div>\n",
       "<style scoped>\n",
       "    .dataframe tbody tr th:only-of-type {\n",
       "        vertical-align: middle;\n",
       "    }\n",
       "\n",
       "    .dataframe tbody tr th {\n",
       "        vertical-align: top;\n",
       "    }\n",
       "\n",
       "    .dataframe thead th {\n",
       "        text-align: right;\n",
       "    }\n",
       "</style>\n",
       "<table border=\"1\" class=\"dataframe\">\n",
       "  <thead>\n",
       "    <tr style=\"text-align: right;\">\n",
       "      <th></th>\n",
       "      <th>Variable</th>\n",
       "      <th>Range Coverage</th>\n",
       "    </tr>\n",
       "  </thead>\n",
       "  <tbody>\n",
       "    <tr>\n",
       "      <th>0</th>\n",
       "      <td>BM</td>\n",
       "      <td>1.000000</td>\n",
       "    </tr>\n",
       "    <tr>\n",
       "      <th>1</th>\n",
       "      <td>TSAT</td>\n",
       "      <td>1.000000</td>\n",
       "    </tr>\n",
       "    <tr>\n",
       "      <th>2</th>\n",
       "      <td>TRANS</td>\n",
       "      <td>1.000000</td>\n",
       "    </tr>\n",
       "    <tr>\n",
       "      <th>3</th>\n",
       "      <td>AHBM</td>\n",
       "      <td>1.000000</td>\n",
       "    </tr>\n",
       "    <tr>\n",
       "      <th>4</th>\n",
       "      <td>RHBM</td>\n",
       "      <td>1.000000</td>\n",
       "    </tr>\n",
       "    <tr>\n",
       "      <th>5</th>\n",
       "      <td>FER</td>\n",
       "      <td>0.997685</td>\n",
       "    </tr>\n",
       "    <tr>\n",
       "      <th>6</th>\n",
       "      <td>FE</td>\n",
       "      <td>0.995862</td>\n",
       "    </tr>\n",
       "    <tr>\n",
       "      <th>7</th>\n",
       "      <td>mean_range_coverage</td>\n",
       "      <td>0.999078</td>\n",
       "    </tr>\n",
       "  </tbody>\n",
       "</table>\n",
       "</div>"
      ],
      "text/plain": [
       "              Variable  Range Coverage\n",
       "0                   BM        1.000000\n",
       "1                 TSAT        1.000000\n",
       "2                TRANS        1.000000\n",
       "3                 AHBM        1.000000\n",
       "4                 RHBM        1.000000\n",
       "5                  FER        0.997685\n",
       "6                   FE        0.995862\n",
       "7  mean_range_coverage        0.999078"
      ]
     },
     "execution_count": 17,
     "metadata": {},
     "output_type": "execute_result"
    }
   ],
   "source": [
    "evaluator.range_coverage_eval()"
   ]
  },
  {
   "cell_type": "markdown",
   "id": "bf1bf7e2-a2a7-456f-9244-e719d7075591",
   "metadata": {},
   "source": [
    "### Missing values similarity"
   ]
  },
  {
   "cell_type": "code",
   "execution_count": 18,
   "id": "1b7db096-fd02-45d4-a0b1-adeeaa6ececc",
   "metadata": {},
   "outputs": [
    {
     "data": {
      "text/html": [
       "<div>\n",
       "<style scoped>\n",
       "    .dataframe tbody tr th:only-of-type {\n",
       "        vertical-align: middle;\n",
       "    }\n",
       "\n",
       "    .dataframe tbody tr th {\n",
       "        vertical-align: top;\n",
       "    }\n",
       "\n",
       "    .dataframe thead th {\n",
       "        text-align: right;\n",
       "    }\n",
       "</style>\n",
       "<table border=\"1\" class=\"dataframe\">\n",
       "  <thead>\n",
       "    <tr style=\"text-align: right;\">\n",
       "      <th></th>\n",
       "      <th>Variable</th>\n",
       "      <th>Missing Value Similarity</th>\n",
       "    </tr>\n",
       "  </thead>\n",
       "  <tbody>\n",
       "    <tr>\n",
       "      <th>0</th>\n",
       "      <td>mean_missing_value_similarity</td>\n",
       "      <td>None</td>\n",
       "    </tr>\n",
       "  </tbody>\n",
       "</table>\n",
       "</div>"
      ],
      "text/plain": [
       "                        Variable Missing Value Similarity\n",
       "0  mean_missing_value_similarity                     None"
      ]
     },
     "execution_count": 18,
     "metadata": {},
     "output_type": "execute_result"
    }
   ],
   "source": [
    "evaluator.miss_val_similarity_eval()"
   ]
  },
  {
   "cell_type": "markdown",
   "id": "97424b33-ecb0-4e9f-bf9f-fdc3c86d60f0",
   "metadata": {},
   "source": [
    "### New row synthesis"
   ]
  },
  {
   "cell_type": "code",
   "execution_count": 19,
   "id": "d5fab250-e5b4-4d3a-8166-e7c244f518ae",
   "metadata": {},
   "outputs": [
    {
     "data": {
      "text/html": [
       "<div>\n",
       "<style scoped>\n",
       "    .dataframe tbody tr th:only-of-type {\n",
       "        vertical-align: middle;\n",
       "    }\n",
       "\n",
       "    .dataframe tbody tr th {\n",
       "        vertical-align: top;\n",
       "    }\n",
       "\n",
       "    .dataframe thead th {\n",
       "        text-align: right;\n",
       "    }\n",
       "</style>\n",
       "<table border=\"1\" class=\"dataframe\">\n",
       "  <thead>\n",
       "    <tr style=\"text-align: right;\">\n",
       "      <th></th>\n",
       "      <th>New Row Synthesis</th>\n",
       "    </tr>\n",
       "  </thead>\n",
       "  <tbody>\n",
       "    <tr>\n",
       "      <th>0</th>\n",
       "      <td>1.0</td>\n",
       "    </tr>\n",
       "  </tbody>\n",
       "</table>\n",
       "</div>"
      ],
      "text/plain": [
       "   New Row Synthesis\n",
       "0                1.0"
      ]
     },
     "execution_count": 19,
     "metadata": {},
     "output_type": "execute_result"
    }
   ],
   "source": [
    "evaluator.new_row_synthesis_eval()"
   ]
  },
  {
   "cell_type": "markdown",
   "id": "5b5396a4-54e1-46b7-8b16-94d990329dfa",
   "metadata": {},
   "source": [
    "### Diagnostic Report"
   ]
  },
  {
   "cell_type": "code",
   "execution_count": 20,
   "id": "b20d6ef7-e133-4ff1-96ff-d9964970e162",
   "metadata": {},
   "outputs": [
    {
     "name": "stdout",
     "output_type": "stream",
     "text": [
      "Generating Diagnostic Report. Note: Only 'Data Validity' is supported for visualization by the .get_visualization() method.\n",
      "Choose detail to view:\n",
      "1. Data Validity\n",
      "2. Data Structure\n"
     ]
    },
    {
     "name": "stdin",
     "output_type": "stream",
     "text": [
      "Enter your choice (1 or 2):  1\n"
     ]
    },
    {
     "name": "stdout",
     "output_type": "stream",
     "text": [
      "Generating report ...\n",
      "(1/2) Evaluating Data Validity: : 100%|█████████████████████████████████████████████████████████████████████████████████████████████████████| 11/11 [00:00<00:00, 350.60it/s]\n",
      "(2/2) Evaluating Data Structure: : 100%|██████████████████████████████████████████████████████████████████████████████████████████████████████| 1/1 [00:00<00:00, 194.22it/s]\n",
      "\n",
      "Overall Score: 99.95%\n",
      "\n",
      "Properties:\n",
      "- Data Validity: 99.9%\n",
      "- Data Structure: 100.0%\n",
      "\n",
      "Details for Data Validity:\n",
      "      Column             Metric     Score\n",
      "0         ID      KeyUniqueness  1.000000\n",
      "1       TIME  CategoryAdherence  1.000000\n",
      "2        SEX  CategoryAdherence  1.000000\n",
      "3   SUP_DOSE  CategoryAdherence  1.000000\n",
      "4         BM  BoundaryAdherence  1.000000\n",
      "5        FER  BoundaryAdherence  1.000000\n",
      "6         FE  BoundaryAdherence  1.000000\n",
      "7       TSAT  BoundaryAdherence  1.000000\n",
      "8      TRANS  BoundaryAdherence  1.000000\n",
      "9       AHBM  BoundaryAdherence  1.000000\n",
      "10      RHBM  BoundaryAdherence  0.988764\n",
      "\n",
      "To visualize 'Data Validity', use: diagnostic_report.get_visualization('Data Validity')\n"
     ]
    }
   ],
   "source": [
    "diagnostic_report = evaluator.generate_diagnostic_report()"
   ]
  },
  {
   "cell_type": "code",
   "execution_count": 21,
   "id": "159c7aaa-8af8-4ad0-b772-85d8898177c3",
   "metadata": {},
   "outputs": [
    {
     "data": {
      "text/html": [
       "<iframe\n",
       "    scrolling=\"no\"\n",
       "    width=\"100%\"\n",
       "    height=\"545px\"\n",
       "    src=\"iframe_figures/figure_21.html\"\n",
       "    frameborder=\"0\"\n",
       "    allowfullscreen\n",
       "></iframe>\n"
      ]
     },
     "metadata": {},
     "output_type": "display_data"
    }
   ],
   "source": [
    "diagnostic_report.get_visualization('Data Validity')"
   ]
  },
  {
   "cell_type": "markdown",
   "id": "83eb5bca-69bc-41e4-bf41-bcee06e8e270",
   "metadata": {},
   "source": [
    "### Quality Report"
   ]
  },
  {
   "cell_type": "code",
   "execution_count": 22,
   "id": "fb437da4-16b1-4c45-ba44-ee57c15ee775",
   "metadata": {},
   "outputs": [
    {
     "name": "stdout",
     "output_type": "stream",
     "text": [
      "Generating Quality Report. You will be able to visualize the selected property after this method's execution.\n",
      "Choose detail type for Quality Report:\n",
      "1. Column Shapes\n",
      "2. Column Pair Trends\n"
     ]
    },
    {
     "name": "stdin",
     "output_type": "stream",
     "text": [
      "Enter your choice (1 or 2):  1\n"
     ]
    },
    {
     "name": "stdout",
     "output_type": "stream",
     "text": [
      "Generating report ...\n",
      "(1/2) Evaluating Column Shapes: : 100%|█████████████████████████████████████████████████████████████████████████████████████████████████████| 11/11 [00:00<00:00, 549.74it/s]\n",
      "(2/2) Evaluating Column Pair Trends: : 100%|█████████████████████████████████████████████████████████████████████████████████████████████████| 55/55 [00:00<00:00, 59.42it/s]\n",
      "\n",
      "Overall Score: 70.84%\n",
      "\n",
      "Properties:\n",
      "- Column Shapes: 96.26%\n",
      "- Column Pair Trends: 45.42%\n",
      "\n",
      "Details for Column Shapes:\n",
      "     Column        Metric     Score\n",
      "0      TIME  TVComplement  1.000000\n",
      "1       SEX  TVComplement  1.000000\n",
      "2  SUP_DOSE  TVComplement  1.000000\n",
      "3        BM  KSComplement  0.960674\n",
      "4       FER  KSComplement  0.941011\n",
      "5        FE  KSComplement  0.929775\n",
      "6      TSAT  KSComplement  0.946629\n",
      "7     TRANS  KSComplement  0.924157\n",
      "8      AHBM  KSComplement  0.966292\n",
      "9      RHBM  KSComplement  0.957865\n",
      "\n",
      "To visualize 'Column Shapes', use: quality_report.get_visualization('Column Shapes')\n"
     ]
    }
   ],
   "source": [
    "quality_report = evaluator.generate_quality_report()"
   ]
  },
  {
   "cell_type": "code",
   "execution_count": 23,
   "id": "4d915ab0-00cf-48a7-92fc-5a7bdd4cc026",
   "metadata": {},
   "outputs": [
    {
     "data": {
      "text/html": [
       "<iframe\n",
       "    scrolling=\"no\"\n",
       "    width=\"920px\"\n",
       "    height=\"920\"\n",
       "    src=\"iframe_figures/figure_23.html\"\n",
       "    frameborder=\"0\"\n",
       "    allowfullscreen\n",
       "></iframe>\n"
      ]
     },
     "metadata": {},
     "output_type": "display_data"
    }
   ],
   "source": [
    "quality_report.get_visualization('Column Pair Trends')"
   ]
  },
  {
   "cell_type": "markdown",
   "id": "5e532bc8-02a5-4f04-9566-18742b1c71dc",
   "metadata": {},
   "source": [
    "### Visualizations"
   ]
  },
  {
   "cell_type": "code",
   "execution_count": 24,
   "id": "7e0d58dd-2667-4972-947d-b5ba4c87387b",
   "metadata": {},
   "outputs": [
    {
     "name": "stdout",
     "output_type": "stream",
     "text": [
      "Choose column type for visualization:\n",
      "1. Numerical\n",
      "2. Categorical\n"
     ]
    },
    {
     "name": "stdin",
     "output_type": "stream",
     "text": [
      "Enter choice (1 or 2):  1\n"
     ]
    },
    {
     "data": {
      "text/html": [
       "<iframe\n",
       "    scrolling=\"no\"\n",
       "    width=\"920px\"\n",
       "    height=\"920\"\n",
       "    src=\"iframe_figures/figure_24.html\"\n",
       "    frameborder=\"0\"\n",
       "    allowfullscreen\n",
       "></iframe>\n"
      ]
     },
     "metadata": {},
     "output_type": "display_data"
    }
   ],
   "source": [
    "evaluator.plot_columns()"
   ]
  },
  {
   "cell_type": "code",
   "execution_count": 25,
   "id": "8d04b599-6bee-401a-8422-b59450ba1c2e",
   "metadata": {},
   "outputs": [
    {
     "name": "stdout",
     "output_type": "stream",
     "text": [
      "Choose correlation coefficient:\n",
      "1. Pearson\n",
      "2. Spearman\n"
     ]
    },
    {
     "name": "stdin",
     "output_type": "stream",
     "text": [
      "Enter choice (1 or 2):  1\n"
     ]
    },
    {
     "data": {
      "text/html": [
       "<iframe\n",
       "    scrolling=\"no\"\n",
       "    width=\"1520px\"\n",
       "    height=\"1020\"\n",
       "    src=\"iframe_figures/figure_25.html\"\n",
       "    frameborder=\"0\"\n",
       "    allowfullscreen\n",
       "></iframe>\n"
      ]
     },
     "metadata": {},
     "output_type": "display_data"
    }
   ],
   "source": [
    "evaluator.plot_column_pairs()"
   ]
  },
  {
   "cell_type": "code",
   "execution_count": 26,
   "id": "dfb5dce8-2f65-4b8d-8e58-c4dd6fbe5841",
   "metadata": {},
   "outputs": [],
   "source": [
    "# Below we conduct the same evaluation but only for the numerical columns (categorical columns removed)"
   ]
  },
  {
   "cell_type": "markdown",
   "id": "95930906-bdfc-4e18-99d8-6bdab8b8f41a",
   "metadata": {},
   "source": [
    "# Remove the categorical columns from Hbmass and Hbmass_synthetic"
   ]
  },
  {
   "cell_type": "code",
   "execution_count": 27,
   "id": "a0e397f4-1af7-474b-a096-0e75ec4626d2",
   "metadata": {},
   "outputs": [],
   "source": [
    "# Categorical columns to be removed\n",
    "cat_cols_to_remove = ['TIME', 'SEX', 'SUP_DOSE']\n",
    "\n",
    "# Function to extract categorical columns and save them in a separate dataframe\n",
    "def cat_cols_remove(input_df, cat_cols):\n",
    "    cat_cols_df = input_df[cat_cols]\n",
    "    output_df = input_df.drop(cat_cols, axis=1)\n",
    "    return cat_cols_df, output_df"
   ]
  },
  {
   "cell_type": "code",
   "execution_count": 28,
   "id": "30cbdcff-c737-4b2f-a61f-0155bcc2ca7a",
   "metadata": {},
   "outputs": [],
   "source": [
    "# Remove the 3 categorical columns from Hbmass\n",
    "cat_cols, Hbmass_numerical = cat_cols_remove(Hbmass, cat_cols_to_remove)"
   ]
  },
  {
   "cell_type": "code",
   "execution_count": 29,
   "id": "d69712b5-b05c-4f1c-9863-9815c2fdd344",
   "metadata": {},
   "outputs": [],
   "source": [
    "# Remove the 3 categorical columns from Hbmass_synthetic\n",
    "cat_cols_synthetic, Hbmass_synthetic_numerical = cat_cols_remove(Hbmass_synthetic, cat_cols_to_remove)"
   ]
  },
  {
   "cell_type": "markdown",
   "id": "97e9def6-b577-4d95-b900-01e45859814e",
   "metadata": {},
   "source": [
    "# Generate metadata for Hbmass numerical"
   ]
  },
  {
   "cell_type": "code",
   "execution_count": 33,
   "id": "1608b145-6b78-4dd6-ae3a-f0facf573d7a",
   "metadata": {},
   "outputs": [
    {
     "name": "stdout",
     "output_type": "stream",
     "text": [
      "{\n",
      "    \"primary_key\": \"ID\",\n",
      "    \"METADATA_SPEC_VERSION\": \"SINGLE_TABLE_V1\",\n",
      "    \"columns\": {\n",
      "        \"ID\": {\n",
      "            \"sdtype\": \"id\"\n",
      "        },\n",
      "        \"BM\": {\n",
      "            \"sdtype\": \"numerical\"\n",
      "        },\n",
      "        \"FER\": {\n",
      "            \"sdtype\": \"numerical\"\n",
      "        },\n",
      "        \"FE\": {\n",
      "            \"sdtype\": \"numerical\"\n",
      "        },\n",
      "        \"TSAT\": {\n",
      "            \"sdtype\": \"numerical\"\n",
      "        },\n",
      "        \"TRANS\": {\n",
      "            \"sdtype\": \"numerical\"\n",
      "        },\n",
      "        \"AHBM\": {\n",
      "            \"sdtype\": \"numerical\"\n",
      "        },\n",
      "        \"RHBM\": {\n",
      "            \"sdtype\": \"numerical\"\n",
      "        }\n",
      "    }\n",
      "}\n",
      "Validated metadata:\n"
     ]
    },
    {
     "data": {
      "image/svg+xml": [
       "<?xml version=\"1.0\" encoding=\"UTF-8\" standalone=\"no\"?>\n",
       "<!DOCTYPE svg PUBLIC \"-//W3C//DTD SVG 1.1//EN\"\n",
       " \"http://www.w3.org/Graphics/SVG/1.1/DTD/svg11.dtd\">\n",
       "<!-- Generated by graphviz version 2.50.0 (0)\n",
       " -->\n",
       "<!-- Title: Metadata Pages: 1 -->\n",
       "<svg width=\"135pt\" height=\"160pt\"\n",
       " viewBox=\"0.00 0.00 135.00 160.00\" xmlns=\"http://www.w3.org/2000/svg\" xmlns:xlink=\"http://www.w3.org/1999/xlink\">\n",
       "<g id=\"graph0\" class=\"graph\" transform=\"scale(1 1) rotate(0) translate(4 156)\">\n",
       "<title>Metadata</title>\n",
       "<polygon fill=\"white\" stroke=\"transparent\" points=\"-4,4 -4,-156 131,-156 131,4 -4,4\"/>\n",
       "<g id=\"node1\" class=\"node\">\n",
       "<title></title>\n",
       "<path fill=\"#ffec8b\" stroke=\"black\" d=\"M12,-0.5C12,-0.5 115,-0.5 115,-0.5 121,-0.5 127,-6.5 127,-12.5 127,-12.5 127,-139.5 127,-139.5 127,-145.5 121,-151.5 115,-151.5 115,-151.5 12,-151.5 12,-151.5 6,-151.5 0,-145.5 0,-139.5 0,-139.5 0,-12.5 0,-12.5 0,-6.5 6,-0.5 12,-0.5\"/>\n",
       "<text text-anchor=\"start\" x=\"8\" y=\"-136.3\" font-family=\"Times,serif\" font-size=\"14.00\">ID : id</text>\n",
       "<text text-anchor=\"start\" x=\"8\" y=\"-121.3\" font-family=\"Times,serif\" font-size=\"14.00\">BM : numerical</text>\n",
       "<text text-anchor=\"start\" x=\"8\" y=\"-106.3\" font-family=\"Times,serif\" font-size=\"14.00\">FER : numerical</text>\n",
       "<text text-anchor=\"start\" x=\"8\" y=\"-91.3\" font-family=\"Times,serif\" font-size=\"14.00\">FE : numerical</text>\n",
       "<text text-anchor=\"start\" x=\"8\" y=\"-76.3\" font-family=\"Times,serif\" font-size=\"14.00\">TSAT : numerical</text>\n",
       "<text text-anchor=\"start\" x=\"8\" y=\"-61.3\" font-family=\"Times,serif\" font-size=\"14.00\">TRANS : numerical</text>\n",
       "<text text-anchor=\"start\" x=\"8\" y=\"-46.3\" font-family=\"Times,serif\" font-size=\"14.00\">AHBM : numerical</text>\n",
       "<text text-anchor=\"start\" x=\"8\" y=\"-31.3\" font-family=\"Times,serif\" font-size=\"14.00\">RHBM : numerical</text>\n",
       "<polyline fill=\"none\" stroke=\"black\" points=\"0,-23.5 127,-23.5 \"/>\n",
       "<text text-anchor=\"start\" x=\"8\" y=\"-8.3\" font-family=\"Times,serif\" font-size=\"14.00\">Primary key: ID</text>\n",
       "</g>\n",
       "</g>\n",
       "</svg>\n"
      ],
      "text/plain": [
       "<graphviz.graphs.Digraph at 0x7fb31b89b7c0>"
      ]
     },
     "execution_count": 33,
     "metadata": {},
     "output_type": "execute_result"
    }
   ],
   "source": [
    "# Generate metadata for Hbmass_numerical\n",
    "\n",
    "metadata_Hbmass_numerical = generate_and_validate_metadata(Hbmass_numerical)\n",
    "\n",
    "# Visualize the metadata\n",
    "print('Validated metadata:')\n",
    "metadata_Hbmass_numerical.visualize()"
   ]
  },
  {
   "cell_type": "markdown",
   "id": "92e28aa2-09d0-4a2a-8200-61599196bc04",
   "metadata": {},
   "source": [
    "# Evaluate synthetic data with the SyntheticDataEvaluator class"
   ]
  },
  {
   "cell_type": "code",
   "execution_count": 34,
   "id": "adde0991-90e0-464d-b989-93418d841074",
   "metadata": {},
   "outputs": [
    {
     "name": "stdout",
     "output_type": "stream",
     "text": [
      "Available methods for synthetic data evaluation:\n",
      "- ks_complement_eval\n",
      "- tv_complement_eval\n",
      "- descr_stat_similarity_eval\n",
      "- corr_similarity_eval\n",
      "- range_coverage_eval\n",
      "- cat_coverage_eval\n",
      "- miss_val_similarity_eval\n",
      "- new_row_synthesis_eval\n",
      "- generate_diagnostic_report\n",
      "- generate_quality_report\n",
      "- plot_columns\n",
      "- plot_column_pairs\n"
     ]
    }
   ],
   "source": [
    "# Instantiate an object of the SyntheticDataEvaluator class\n",
    "evaluator = SyntheticDataEvaluator(Hbmass_numerical, Hbmass_synthetic_numerical, metadata_Hbmass_numerical)\n",
    "print(evaluator)"
   ]
  },
  {
   "cell_type": "markdown",
   "id": "86932a40-ad86-4c69-ba8f-6a963af6b51c",
   "metadata": {},
   "source": [
    "### KSComplement"
   ]
  },
  {
   "cell_type": "code",
   "execution_count": 35,
   "id": "7d0bb242-86bb-4c21-b05b-cec05f2005e3",
   "metadata": {},
   "outputs": [
    {
     "data": {
      "text/html": [
       "<div>\n",
       "<style scoped>\n",
       "    .dataframe tbody tr th:only-of-type {\n",
       "        vertical-align: middle;\n",
       "    }\n",
       "\n",
       "    .dataframe tbody tr th {\n",
       "        vertical-align: top;\n",
       "    }\n",
       "\n",
       "    .dataframe thead th {\n",
       "        text-align: right;\n",
       "    }\n",
       "</style>\n",
       "<table border=\"1\" class=\"dataframe\">\n",
       "  <thead>\n",
       "    <tr style=\"text-align: right;\">\n",
       "      <th></th>\n",
       "      <th>Variable</th>\n",
       "      <th>KSComplement Score</th>\n",
       "    </tr>\n",
       "  </thead>\n",
       "  <tbody>\n",
       "    <tr>\n",
       "      <th>0</th>\n",
       "      <td>AHBM</td>\n",
       "      <td>0.966292</td>\n",
       "    </tr>\n",
       "    <tr>\n",
       "      <th>1</th>\n",
       "      <td>BM</td>\n",
       "      <td>0.960674</td>\n",
       "    </tr>\n",
       "    <tr>\n",
       "      <th>2</th>\n",
       "      <td>RHBM</td>\n",
       "      <td>0.957865</td>\n",
       "    </tr>\n",
       "    <tr>\n",
       "      <th>3</th>\n",
       "      <td>TSAT</td>\n",
       "      <td>0.946629</td>\n",
       "    </tr>\n",
       "    <tr>\n",
       "      <th>4</th>\n",
       "      <td>FER</td>\n",
       "      <td>0.941011</td>\n",
       "    </tr>\n",
       "    <tr>\n",
       "      <th>5</th>\n",
       "      <td>FE</td>\n",
       "      <td>0.929775</td>\n",
       "    </tr>\n",
       "    <tr>\n",
       "      <th>6</th>\n",
       "      <td>TRANS</td>\n",
       "      <td>0.924157</td>\n",
       "    </tr>\n",
       "    <tr>\n",
       "      <th>7</th>\n",
       "      <td>mean_ks_score</td>\n",
       "      <td>0.946629</td>\n",
       "    </tr>\n",
       "  </tbody>\n",
       "</table>\n",
       "</div>"
      ],
      "text/plain": [
       "        Variable  KSComplement Score\n",
       "0           AHBM            0.966292\n",
       "1             BM            0.960674\n",
       "2           RHBM            0.957865\n",
       "3           TSAT            0.946629\n",
       "4            FER            0.941011\n",
       "5             FE            0.929775\n",
       "6          TRANS            0.924157\n",
       "7  mean_ks_score            0.946629"
      ]
     },
     "execution_count": 35,
     "metadata": {},
     "output_type": "execute_result"
    }
   ],
   "source": [
    "evaluator.ks_complement_eval()"
   ]
  },
  {
   "cell_type": "markdown",
   "id": "61db97ca-7683-4795-a6e3-90d1747e3d69",
   "metadata": {},
   "source": [
    "### Descriptive statistics similarity"
   ]
  },
  {
   "cell_type": "code",
   "execution_count": 36,
   "id": "944d008b-afc2-4ec1-8653-a9237d26bdd4",
   "metadata": {},
   "outputs": [
    {
     "data": {
      "text/html": [
       "<div>\n",
       "<style scoped>\n",
       "    .dataframe tbody tr th:only-of-type {\n",
       "        vertical-align: middle;\n",
       "    }\n",
       "\n",
       "    .dataframe tbody tr th {\n",
       "        vertical-align: top;\n",
       "    }\n",
       "\n",
       "    .dataframe thead th {\n",
       "        text-align: right;\n",
       "    }\n",
       "</style>\n",
       "<table border=\"1\" class=\"dataframe\">\n",
       "  <thead>\n",
       "    <tr style=\"text-align: right;\">\n",
       "      <th></th>\n",
       "      <th>Variable</th>\n",
       "      <th>mean</th>\n",
       "      <th>median</th>\n",
       "      <th>std</th>\n",
       "    </tr>\n",
       "  </thead>\n",
       "  <tbody>\n",
       "    <tr>\n",
       "      <th>0</th>\n",
       "      <td>BM</td>\n",
       "      <td>0.990026</td>\n",
       "      <td>0.986111</td>\n",
       "      <td>0.998054</td>\n",
       "    </tr>\n",
       "    <tr>\n",
       "      <th>1</th>\n",
       "      <td>FER</td>\n",
       "      <td>0.977592</td>\n",
       "      <td>0.980093</td>\n",
       "      <td>0.985306</td>\n",
       "    </tr>\n",
       "    <tr>\n",
       "      <th>2</th>\n",
       "      <td>FE</td>\n",
       "      <td>0.998725</td>\n",
       "      <td>0.990345</td>\n",
       "      <td>0.997480</td>\n",
       "    </tr>\n",
       "    <tr>\n",
       "      <th>3</th>\n",
       "      <td>TSAT</td>\n",
       "      <td>0.994815</td>\n",
       "      <td>1.000000</td>\n",
       "      <td>0.989884</td>\n",
       "    </tr>\n",
       "    <tr>\n",
       "      <th>4</th>\n",
       "      <td>TRANS</td>\n",
       "      <td>0.978615</td>\n",
       "      <td>0.967742</td>\n",
       "      <td>0.994833</td>\n",
       "    </tr>\n",
       "    <tr>\n",
       "      <th>5</th>\n",
       "      <td>AHBM</td>\n",
       "      <td>0.992606</td>\n",
       "      <td>0.974101</td>\n",
       "      <td>0.999987</td>\n",
       "    </tr>\n",
       "    <tr>\n",
       "      <th>6</th>\n",
       "      <td>RHBM</td>\n",
       "      <td>0.999395</td>\n",
       "      <td>0.998601</td>\n",
       "      <td>0.999051</td>\n",
       "    </tr>\n",
       "  </tbody>\n",
       "</table>\n",
       "</div>"
      ],
      "text/plain": [
       "  Variable      mean    median       std\n",
       "0       BM  0.990026  0.986111  0.998054\n",
       "1      FER  0.977592  0.980093  0.985306\n",
       "2       FE  0.998725  0.990345  0.997480\n",
       "3     TSAT  0.994815  1.000000  0.989884\n",
       "4    TRANS  0.978615  0.967742  0.994833\n",
       "5     AHBM  0.992606  0.974101  0.999987\n",
       "6     RHBM  0.999395  0.998601  0.999051"
      ]
     },
     "execution_count": 36,
     "metadata": {},
     "output_type": "execute_result"
    }
   ],
   "source": [
    "evaluator.descr_stat_similarity_eval()"
   ]
  },
  {
   "cell_type": "markdown",
   "id": "5cd6048d-baa6-4496-96b9-6554e26d3ea9",
   "metadata": {},
   "source": [
    "### Correlation similarity"
   ]
  },
  {
   "cell_type": "code",
   "execution_count": 37,
   "id": "58164ed8-bf7d-4f94-9c6b-67649271ac4d",
   "metadata": {},
   "outputs": [
    {
     "name": "stdout",
     "output_type": "stream",
     "text": [
      "Choose correlation coefficient:\n",
      "1. Pearson\n",
      "2. Spearman\n"
     ]
    },
    {
     "name": "stdin",
     "output_type": "stream",
     "text": [
      "Enter choice (1 or 2):  1\n"
     ]
    },
    {
     "data": {
      "text/html": [
       "<div>\n",
       "<style scoped>\n",
       "    .dataframe tbody tr th:only-of-type {\n",
       "        vertical-align: middle;\n",
       "    }\n",
       "\n",
       "    .dataframe tbody tr th {\n",
       "        vertical-align: top;\n",
       "    }\n",
       "\n",
       "    .dataframe thead th {\n",
       "        text-align: right;\n",
       "    }\n",
       "</style>\n",
       "<table border=\"1\" class=\"dataframe\">\n",
       "  <thead>\n",
       "    <tr style=\"text-align: right;\">\n",
       "      <th></th>\n",
       "      <th>Column Pair</th>\n",
       "      <th>Correlation Similarity</th>\n",
       "    </tr>\n",
       "  </thead>\n",
       "  <tbody>\n",
       "    <tr>\n",
       "      <th>0</th>\n",
       "      <td>(AHBM, RHBM)</td>\n",
       "      <td>0.999156</td>\n",
       "    </tr>\n",
       "    <tr>\n",
       "      <th>1</th>\n",
       "      <td>(BM, AHBM)</td>\n",
       "      <td>0.996647</td>\n",
       "    </tr>\n",
       "    <tr>\n",
       "      <th>2</th>\n",
       "      <td>(BM, RHBM)</td>\n",
       "      <td>0.996579</td>\n",
       "    </tr>\n",
       "    <tr>\n",
       "      <th>3</th>\n",
       "      <td>(FER, AHBM)</td>\n",
       "      <td>0.996133</td>\n",
       "    </tr>\n",
       "    <tr>\n",
       "      <th>4</th>\n",
       "      <td>(FER, TRANS)</td>\n",
       "      <td>0.995495</td>\n",
       "    </tr>\n",
       "    <tr>\n",
       "      <th>5</th>\n",
       "      <td>(BM, FER)</td>\n",
       "      <td>0.994128</td>\n",
       "    </tr>\n",
       "    <tr>\n",
       "      <th>6</th>\n",
       "      <td>(FER, FE)</td>\n",
       "      <td>0.992904</td>\n",
       "    </tr>\n",
       "    <tr>\n",
       "      <th>7</th>\n",
       "      <td>(FER, RHBM)</td>\n",
       "      <td>0.992489</td>\n",
       "    </tr>\n",
       "    <tr>\n",
       "      <th>8</th>\n",
       "      <td>(FE, TSAT)</td>\n",
       "      <td>0.980574</td>\n",
       "    </tr>\n",
       "    <tr>\n",
       "      <th>9</th>\n",
       "      <td>(TRANS, AHBM)</td>\n",
       "      <td>0.976768</td>\n",
       "    </tr>\n",
       "    <tr>\n",
       "      <th>10</th>\n",
       "      <td>(TSAT, TRANS)</td>\n",
       "      <td>0.970996</td>\n",
       "    </tr>\n",
       "    <tr>\n",
       "      <th>11</th>\n",
       "      <td>(TRANS, RHBM)</td>\n",
       "      <td>0.970602</td>\n",
       "    </tr>\n",
       "    <tr>\n",
       "      <th>12</th>\n",
       "      <td>(FER, TSAT)</td>\n",
       "      <td>0.968949</td>\n",
       "    </tr>\n",
       "    <tr>\n",
       "      <th>13</th>\n",
       "      <td>(FE, TRANS)</td>\n",
       "      <td>0.964505</td>\n",
       "    </tr>\n",
       "    <tr>\n",
       "      <th>14</th>\n",
       "      <td>(BM, FE)</td>\n",
       "      <td>0.963499</td>\n",
       "    </tr>\n",
       "    <tr>\n",
       "      <th>15</th>\n",
       "      <td>(FE, RHBM)</td>\n",
       "      <td>0.960954</td>\n",
       "    </tr>\n",
       "    <tr>\n",
       "      <th>16</th>\n",
       "      <td>(BM, TSAT)</td>\n",
       "      <td>0.958021</td>\n",
       "    </tr>\n",
       "    <tr>\n",
       "      <th>17</th>\n",
       "      <td>(FE, AHBM)</td>\n",
       "      <td>0.954000</td>\n",
       "    </tr>\n",
       "    <tr>\n",
       "      <th>18</th>\n",
       "      <td>(TSAT, RHBM)</td>\n",
       "      <td>0.942077</td>\n",
       "    </tr>\n",
       "    <tr>\n",
       "      <th>19</th>\n",
       "      <td>(TSAT, AHBM)</td>\n",
       "      <td>0.935585</td>\n",
       "    </tr>\n",
       "    <tr>\n",
       "      <th>20</th>\n",
       "      <td>(BM, TRANS)</td>\n",
       "      <td>0.930970</td>\n",
       "    </tr>\n",
       "    <tr>\n",
       "      <th>21</th>\n",
       "      <td>mean_correlation_score</td>\n",
       "      <td>0.973383</td>\n",
       "    </tr>\n",
       "  </tbody>\n",
       "</table>\n",
       "</div>"
      ],
      "text/plain": [
       "               Column Pair  Correlation Similarity\n",
       "0             (AHBM, RHBM)                0.999156\n",
       "1               (BM, AHBM)                0.996647\n",
       "2               (BM, RHBM)                0.996579\n",
       "3              (FER, AHBM)                0.996133\n",
       "4             (FER, TRANS)                0.995495\n",
       "5                (BM, FER)                0.994128\n",
       "6                (FER, FE)                0.992904\n",
       "7              (FER, RHBM)                0.992489\n",
       "8               (FE, TSAT)                0.980574\n",
       "9            (TRANS, AHBM)                0.976768\n",
       "10           (TSAT, TRANS)                0.970996\n",
       "11           (TRANS, RHBM)                0.970602\n",
       "12             (FER, TSAT)                0.968949\n",
       "13             (FE, TRANS)                0.964505\n",
       "14                (BM, FE)                0.963499\n",
       "15              (FE, RHBM)                0.960954\n",
       "16              (BM, TSAT)                0.958021\n",
       "17              (FE, AHBM)                0.954000\n",
       "18            (TSAT, RHBM)                0.942077\n",
       "19            (TSAT, AHBM)                0.935585\n",
       "20             (BM, TRANS)                0.930970\n",
       "21  mean_correlation_score                0.973383"
      ]
     },
     "execution_count": 37,
     "metadata": {},
     "output_type": "execute_result"
    }
   ],
   "source": [
    "evaluator.corr_similarity_eval()"
   ]
  },
  {
   "cell_type": "markdown",
   "id": "5576b9b0-8ef1-49f7-8a44-18fd79db1eb9",
   "metadata": {},
   "source": [
    "### Range coverage similarity"
   ]
  },
  {
   "cell_type": "code",
   "execution_count": 38,
   "id": "84816dc9-1bf4-40b0-a5c6-cee0660797a8",
   "metadata": {},
   "outputs": [
    {
     "data": {
      "text/html": [
       "<div>\n",
       "<style scoped>\n",
       "    .dataframe tbody tr th:only-of-type {\n",
       "        vertical-align: middle;\n",
       "    }\n",
       "\n",
       "    .dataframe tbody tr th {\n",
       "        vertical-align: top;\n",
       "    }\n",
       "\n",
       "    .dataframe thead th {\n",
       "        text-align: right;\n",
       "    }\n",
       "</style>\n",
       "<table border=\"1\" class=\"dataframe\">\n",
       "  <thead>\n",
       "    <tr style=\"text-align: right;\">\n",
       "      <th></th>\n",
       "      <th>Variable</th>\n",
       "      <th>Range Coverage</th>\n",
       "    </tr>\n",
       "  </thead>\n",
       "  <tbody>\n",
       "    <tr>\n",
       "      <th>0</th>\n",
       "      <td>BM</td>\n",
       "      <td>1.000000</td>\n",
       "    </tr>\n",
       "    <tr>\n",
       "      <th>1</th>\n",
       "      <td>TSAT</td>\n",
       "      <td>1.000000</td>\n",
       "    </tr>\n",
       "    <tr>\n",
       "      <th>2</th>\n",
       "      <td>TRANS</td>\n",
       "      <td>1.000000</td>\n",
       "    </tr>\n",
       "    <tr>\n",
       "      <th>3</th>\n",
       "      <td>AHBM</td>\n",
       "      <td>1.000000</td>\n",
       "    </tr>\n",
       "    <tr>\n",
       "      <th>4</th>\n",
       "      <td>RHBM</td>\n",
       "      <td>1.000000</td>\n",
       "    </tr>\n",
       "    <tr>\n",
       "      <th>5</th>\n",
       "      <td>FER</td>\n",
       "      <td>0.997685</td>\n",
       "    </tr>\n",
       "    <tr>\n",
       "      <th>6</th>\n",
       "      <td>FE</td>\n",
       "      <td>0.995862</td>\n",
       "    </tr>\n",
       "    <tr>\n",
       "      <th>7</th>\n",
       "      <td>mean_range_coverage</td>\n",
       "      <td>0.999078</td>\n",
       "    </tr>\n",
       "  </tbody>\n",
       "</table>\n",
       "</div>"
      ],
      "text/plain": [
       "              Variable  Range Coverage\n",
       "0                   BM        1.000000\n",
       "1                 TSAT        1.000000\n",
       "2                TRANS        1.000000\n",
       "3                 AHBM        1.000000\n",
       "4                 RHBM        1.000000\n",
       "5                  FER        0.997685\n",
       "6                   FE        0.995862\n",
       "7  mean_range_coverage        0.999078"
      ]
     },
     "execution_count": 38,
     "metadata": {},
     "output_type": "execute_result"
    }
   ],
   "source": [
    "evaluator.range_coverage_eval()"
   ]
  },
  {
   "cell_type": "markdown",
   "id": "d4338197-b1a0-4092-9f7c-7f8147bbe664",
   "metadata": {},
   "source": [
    "### Missing values similarity"
   ]
  },
  {
   "cell_type": "code",
   "execution_count": 39,
   "id": "05dc97e7-4a6d-4290-8784-2141861f9e65",
   "metadata": {},
   "outputs": [
    {
     "data": {
      "text/html": [
       "<div>\n",
       "<style scoped>\n",
       "    .dataframe tbody tr th:only-of-type {\n",
       "        vertical-align: middle;\n",
       "    }\n",
       "\n",
       "    .dataframe tbody tr th {\n",
       "        vertical-align: top;\n",
       "    }\n",
       "\n",
       "    .dataframe thead th {\n",
       "        text-align: right;\n",
       "    }\n",
       "</style>\n",
       "<table border=\"1\" class=\"dataframe\">\n",
       "  <thead>\n",
       "    <tr style=\"text-align: right;\">\n",
       "      <th></th>\n",
       "      <th>Variable</th>\n",
       "      <th>Missing Value Similarity</th>\n",
       "    </tr>\n",
       "  </thead>\n",
       "  <tbody>\n",
       "    <tr>\n",
       "      <th>0</th>\n",
       "      <td>mean_missing_value_similarity</td>\n",
       "      <td>None</td>\n",
       "    </tr>\n",
       "  </tbody>\n",
       "</table>\n",
       "</div>"
      ],
      "text/plain": [
       "                        Variable Missing Value Similarity\n",
       "0  mean_missing_value_similarity                     None"
      ]
     },
     "execution_count": 39,
     "metadata": {},
     "output_type": "execute_result"
    }
   ],
   "source": [
    "evaluator.miss_val_similarity_eval()"
   ]
  },
  {
   "cell_type": "markdown",
   "id": "3609c51e-82bc-427c-913a-368ba173bef1",
   "metadata": {},
   "source": [
    "### New row synthesis"
   ]
  },
  {
   "cell_type": "code",
   "execution_count": 40,
   "id": "a7ef0c0e-7254-4a51-829a-08259323e1eb",
   "metadata": {},
   "outputs": [
    {
     "data": {
      "text/html": [
       "<div>\n",
       "<style scoped>\n",
       "    .dataframe tbody tr th:only-of-type {\n",
       "        vertical-align: middle;\n",
       "    }\n",
       "\n",
       "    .dataframe tbody tr th {\n",
       "        vertical-align: top;\n",
       "    }\n",
       "\n",
       "    .dataframe thead th {\n",
       "        text-align: right;\n",
       "    }\n",
       "</style>\n",
       "<table border=\"1\" class=\"dataframe\">\n",
       "  <thead>\n",
       "    <tr style=\"text-align: right;\">\n",
       "      <th></th>\n",
       "      <th>New Row Synthesis</th>\n",
       "    </tr>\n",
       "  </thead>\n",
       "  <tbody>\n",
       "    <tr>\n",
       "      <th>0</th>\n",
       "      <td>1.0</td>\n",
       "    </tr>\n",
       "  </tbody>\n",
       "</table>\n",
       "</div>"
      ],
      "text/plain": [
       "   New Row Synthesis\n",
       "0                1.0"
      ]
     },
     "execution_count": 40,
     "metadata": {},
     "output_type": "execute_result"
    }
   ],
   "source": [
    "evaluator.new_row_synthesis_eval()"
   ]
  },
  {
   "cell_type": "markdown",
   "id": "2beffdcc-3381-4734-bc52-b7ce3326d606",
   "metadata": {},
   "source": [
    "### Diagnostic Report"
   ]
  },
  {
   "cell_type": "code",
   "execution_count": 41,
   "id": "a5362921-476b-4e91-b167-71bd796115bc",
   "metadata": {},
   "outputs": [
    {
     "name": "stdout",
     "output_type": "stream",
     "text": [
      "Generating Diagnostic Report. Note: Only 'Data Validity' is supported for visualization by the .get_visualization() method.\n",
      "Choose detail to view:\n",
      "1. Data Validity\n",
      "2. Data Structure\n"
     ]
    },
    {
     "name": "stdin",
     "output_type": "stream",
     "text": [
      "Enter your choice (1 or 2):  1\n"
     ]
    },
    {
     "name": "stdout",
     "output_type": "stream",
     "text": [
      "Generating report ...\n",
      "(1/2) Evaluating Data Validity: : 100%|███████████████████████████████████████████████████████████████████████████████████████████████████████| 8/8 [00:00<00:00, 643.25it/s]\n",
      "(2/2) Evaluating Data Structure: : 100%|██████████████████████████████████████████████████████████████████████████████████████████████████████| 1/1 [00:00<00:00, 194.22it/s]\n",
      "\n",
      "Overall Score: 99.93%\n",
      "\n",
      "Properties:\n",
      "- Data Validity: 99.86%\n",
      "- Data Structure: 100.0%\n",
      "\n",
      "Details for Data Validity:\n",
      "  Column             Metric     Score\n",
      "0     ID      KeyUniqueness  1.000000\n",
      "1     BM  BoundaryAdherence  1.000000\n",
      "2    FER  BoundaryAdherence  1.000000\n",
      "3     FE  BoundaryAdherence  1.000000\n",
      "4   TSAT  BoundaryAdherence  1.000000\n",
      "5  TRANS  BoundaryAdherence  1.000000\n",
      "6   AHBM  BoundaryAdherence  1.000000\n",
      "7   RHBM  BoundaryAdherence  0.988764\n",
      "\n",
      "To visualize 'Data Validity', use: diagnostic_report.get_visualization('Data Validity')\n"
     ]
    }
   ],
   "source": [
    "diagnostic_report = evaluator.generate_diagnostic_report()"
   ]
  },
  {
   "cell_type": "code",
   "execution_count": 42,
   "id": "d11878a6-a559-4244-89e1-8e80dcb9cb8f",
   "metadata": {},
   "outputs": [
    {
     "data": {
      "text/html": [
       "<iframe\n",
       "    scrolling=\"no\"\n",
       "    width=\"100%\"\n",
       "    height=\"545px\"\n",
       "    src=\"iframe_figures/figure_42.html\"\n",
       "    frameborder=\"0\"\n",
       "    allowfullscreen\n",
       "></iframe>\n"
      ]
     },
     "metadata": {},
     "output_type": "display_data"
    }
   ],
   "source": [
    "diagnostic_report.get_visualization('Data Validity')"
   ]
  },
  {
   "cell_type": "markdown",
   "id": "7b5c7656-da56-4666-811f-2c4aace2938a",
   "metadata": {},
   "source": [
    "### Quality Report"
   ]
  },
  {
   "cell_type": "code",
   "execution_count": 43,
   "id": "7b7f8e54-0252-4605-ac9e-403570604208",
   "metadata": {},
   "outputs": [
    {
     "name": "stdout",
     "output_type": "stream",
     "text": [
      "Generating Quality Report. You will be able to visualize the selected property after this method's execution.\n",
      "Choose detail type for Quality Report:\n",
      "1. Column Shapes\n",
      "2. Column Pair Trends\n"
     ]
    },
    {
     "name": "stdin",
     "output_type": "stream",
     "text": [
      "Enter your choice (1 or 2):  1\n"
     ]
    },
    {
     "name": "stdout",
     "output_type": "stream",
     "text": [
      "Generating report ...\n",
      "(1/2) Evaluating Column Shapes: : 100%|███████████████████████████████████████████████████████████████████████████████████████████████████████| 8/8 [00:00<00:00, 583.05it/s]\n",
      "(2/2) Evaluating Column Pair Trends: : 100%|████████████████████████████████████████████████████████████████████████████████████████████████| 28/28 [00:00<00:00, 168.17it/s]\n",
      "\n",
      "Overall Score: 96.0%\n",
      "\n",
      "Properties:\n",
      "- Column Shapes: 94.66%\n",
      "- Column Pair Trends: 97.34%\n",
      "\n",
      "Details for Column Shapes:\n",
      "  Column        Metric     Score\n",
      "0     BM  KSComplement  0.960674\n",
      "1    FER  KSComplement  0.941011\n",
      "2     FE  KSComplement  0.929775\n",
      "3   TSAT  KSComplement  0.946629\n",
      "4  TRANS  KSComplement  0.924157\n",
      "5   AHBM  KSComplement  0.966292\n",
      "6   RHBM  KSComplement  0.957865\n",
      "\n",
      "To visualize 'Column Shapes', use: quality_report.get_visualization('Column Shapes')\n"
     ]
    }
   ],
   "source": [
    "quality_report = evaluator.generate_quality_report()"
   ]
  },
  {
   "cell_type": "code",
   "execution_count": 44,
   "id": "7e9ff4f7-cd45-42c6-bfdb-3fa6d5b95d69",
   "metadata": {},
   "outputs": [
    {
     "data": {
      "text/html": [
       "<iframe\n",
       "    scrolling=\"no\"\n",
       "    width=\"920px\"\n",
       "    height=\"920\"\n",
       "    src=\"iframe_figures/figure_44.html\"\n",
       "    frameborder=\"0\"\n",
       "    allowfullscreen\n",
       "></iframe>\n"
      ]
     },
     "metadata": {},
     "output_type": "display_data"
    }
   ],
   "source": [
    "quality_report.get_visualization('Column Pair Trends')"
   ]
  },
  {
   "cell_type": "markdown",
   "id": "27200bf7-e73e-43f2-b4fe-b5edb2a323e5",
   "metadata": {},
   "source": [
    "### Visualizations"
   ]
  },
  {
   "cell_type": "code",
   "execution_count": 45,
   "id": "b4a5985d-5f26-4663-8b70-97108fa201fe",
   "metadata": {},
   "outputs": [
    {
     "name": "stdout",
     "output_type": "stream",
     "text": [
      "Choose column type for visualization:\n",
      "1. Numerical\n",
      "2. Categorical\n"
     ]
    },
    {
     "name": "stdin",
     "output_type": "stream",
     "text": [
      "Enter choice (1 or 2):  1\n"
     ]
    },
    {
     "data": {
      "text/html": [
       "<iframe\n",
       "    scrolling=\"no\"\n",
       "    width=\"920px\"\n",
       "    height=\"920\"\n",
       "    src=\"iframe_figures/figure_45.html\"\n",
       "    frameborder=\"0\"\n",
       "    allowfullscreen\n",
       "></iframe>\n"
      ]
     },
     "metadata": {},
     "output_type": "display_data"
    }
   ],
   "source": [
    "evaluator.plot_columns()"
   ]
  },
  {
   "cell_type": "code",
   "execution_count": 46,
   "id": "f5d2a379-df9b-4428-b107-367c15e187cf",
   "metadata": {},
   "outputs": [
    {
     "name": "stdout",
     "output_type": "stream",
     "text": [
      "Choose correlation coefficient:\n",
      "1. Pearson\n",
      "2. Spearman\n"
     ]
    },
    {
     "name": "stdin",
     "output_type": "stream",
     "text": [
      "Enter choice (1 or 2):  1\n"
     ]
    },
    {
     "data": {
      "text/html": [
       "<iframe\n",
       "    scrolling=\"no\"\n",
       "    width=\"1520px\"\n",
       "    height=\"1020\"\n",
       "    src=\"iframe_figures/figure_46.html\"\n",
       "    frameborder=\"0\"\n",
       "    allowfullscreen\n",
       "></iframe>\n"
      ]
     },
     "metadata": {},
     "output_type": "display_data"
    }
   ],
   "source": [
    "evaluator.plot_column_pairs()"
   ]
  }
 ],
 "metadata": {
  "kernelspec": {
   "display_name": "Python 3.10.9 conda base",
   "language": "python",
   "name": "base"
  },
  "language_info": {
   "codemirror_mode": {
    "name": "ipython",
    "version": 3
   },
   "file_extension": ".py",
   "mimetype": "text/x-python",
   "name": "python",
   "nbconvert_exporter": "python",
   "pygments_lexer": "ipython3",
   "version": "3.10.9"
  }
 },
 "nbformat": 4,
 "nbformat_minor": 5
}
